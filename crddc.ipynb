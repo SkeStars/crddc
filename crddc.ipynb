{
 "cells": [
  {
   "cell_type": "markdown",
   "metadata": {},
   "source": [
    "# Inferencing"
   ]
  },
  {
   "cell_type": "code",
   "execution_count": null,
   "metadata": {},
   "outputs": [],
   "source": [
    "#yolov5 inferencing \n",
    "%cd /usr/src/app/\n",
    "%cd yolov5\n",
    "!python detect.py --weights weights/best_v5x.pt weights/best_v5x6.pt --source ../datasets/test/images/ --imgsz 640 --device 0 --agnostic-nms --conf-thres 0.22 --iou-thres 0.3 --nosave --augment --save-txt\n",
    "\n",
    "#yolov7 inferencing \n",
    "%cd ../yolov7\n",
    "!python detect.py --weights weights/best_v7x.pt --source ../datasets/test/images/ --img-size 640 --device 0 --agnostic-nms --conf-thres 0.08 --iou-thres 0.5 --nosave --augment --save-txt"
   ]
  },
  {
   "cell_type": "markdown",
   "metadata": {},
   "source": [
    "# Merge results"
   ]
  },
  {
   "cell_type": "code",
   "execution_count": null,
   "metadata": {},
   "outputs": [],
   "source": [
    "#merge two results\n",
    "%cd /usr/src/app/\n",
    "!python merge.py yolov5/runs/detect/exp/labels yolov7/runs/detect/exp/labels datasets/test/labels"
   ]
  },
  {
   "cell_type": "markdown",
   "metadata": {},
   "source": [
    "\n",
    "# Train dataset preparing"
   ]
  },
  {
   "cell_type": "code",
   "execution_count": null,
   "metadata": {},
   "outputs": [],
   "source": [
    "#data downloading\n",
    "%cd /usr/src/app/\n",
    "!wget -O datasets.tar.gz \"http://pan.njust.edu.cn:8081/v3.php/download/ln-file?FileId=2132250&ShareKey=tq1qkO0s2Uqtoel62Stz&Policy=eyJBSyI6ImNlYWI0ODY4YjczYTUyMGNkYzY3MWQ5MjJkMjhiMjIxIiwiQWF0IjoxLCJBaWQiOiJKc1FDc2pGM3lyN0tBQ3lUIiwiQ2lkIjoiMjFmMDgwNmYtYzkxNy00ZTRmLTg5N2MtZDJjMjY0YTNiZmExIiwiRXAiOjkwMCwiRGF0ZSI6IkZyaSwgMTcgTm92IDIwMjMgMTQ6MzA6MzkgR01UIn0%3D&Signature=ef861e904ac68df2404b415ea6514d6811c299b3\"\n",
    "!tar -xvf datasets.tar.gz"
   ]
  },
  {
   "cell_type": "markdown",
   "metadata": {},
   "source": [
    "# Training"
   ]
  },
  {
   "cell_type": "code",
   "execution_count": null,
   "metadata": {},
   "outputs": [],
   "source": [
    "#yolov5 training\n",
    "#pretrained weights\n",
    "%cd /usr/src/app/\n",
    "%cd yolov5\n",
    "!wget https://github.com/ultralytics/yolov5/releases/download/v6.1/yolov5x.pt\n",
    "!wget https://github.com/ultralytics/yolov5/releases/download/v6.1/yolov5x6.pt\n",
    "!python train.py --weights yolov5x6.pt --cfg models/hub/yolov5x6.yaml --hyp data/hyps/hyp.scratch-med.yaml --data data/road.yaml --batch-size 8 --imgsz 1280 --noval --device 0,1 --sync-bn\n",
    "!python train.py --weights yolov5x.pt --cfg models/yolov5x.yaml --hyp data/hyps/hyp.scratch-med.yaml --data data/road.yaml --batch-size 32 --imgsz 640 --noval --device 0,1 --sync-bn\n",
    "\n",
    "#yolov7 training\n",
    "#pretrained weights \n",
    "%cd ../yolov7\n",
    "!wget https://github.com/WongKinYiu/yolov7/releases/download/v0.1/yolov7x.pt\n",
    "!python train.py --weights yolov7x.pt --cfg cfg/training/yolov7x.yaml --data data/road.yaml --batch-size 32 --img-size 640 --notest --device 0,1 --sync-bn"
   ]
  }
 ],
 "metadata": {
  "kernelspec": {
   "display_name": "Python 3",
   "language": "python",
   "name": "python3"
  },
  "language_info": {
   "codemirror_mode": {
    "name": "ipython",
    "version": 3
   },
   "file_extension": ".py",
   "mimetype": "text/x-python",
   "name": "python",
   "nbconvert_exporter": "python",
   "pygments_lexer": "ipython3",
   "version": "3.8.13"
  },
  "orig_nbformat": 4
 },
 "nbformat": 4,
 "nbformat_minor": 2
}
